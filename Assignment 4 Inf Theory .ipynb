{
 "cells": [
  {
   "cell_type": "markdown",
   "metadata": {},
   "source": [
    "# Assignment 4\n",
    "\n",
    "Nuraina Baimukhanova & Zukhra Mazhitova\n"
   ]
  },
  {
   "cell_type": "markdown",
   "metadata": {},
   "source": [
    "## Part 1"
   ]
  },
  {
   "cell_type": "markdown",
   "metadata": {},
   "source": [
    "- Input file should be simple txt formatted file. First of all, we open file and read content of file in order to save it in variable called \"input_file\"."
   ]
  },
  {
   "cell_type": "code",
   "execution_count": 1,
   "metadata": {},
   "outputs": [],
   "source": [
    "with open(\"file.txt\", \"r\") as f:\n",
    "    input_file = f.read()"
   ]
  },
  {
   "cell_type": "markdown",
   "metadata": {},
   "source": [
    "- Secondly, we save probabilities of each unique character with appropriate character in array called \"output\". To calculate probability we divide number of occurence of symbol by length of inputted text. We repeat all actions in loop for each character in string."
   ]
  },
  {
   "cell_type": "markdown",
   "metadata": {},
   "source": [
    "- Finally, we print results."
   ]
  },
  {
   "cell_type": "code",
   "execution_count": 2,
   "metadata": {},
   "outputs": [
    {
     "name": "stdout",
     "output_type": "stream",
     "text": [
      "A-0.05\n",
      "g-0.05\n",
      "r-0.05\n",
      "n-0.15\n",
      "tab-0.05\n",
      "p-0.1\n",
      "o-0.05\n",
      "new line-0.05\n",
      "l-0.05\n",
      "e-0.1\n",
      "b-0.05\n",
      "a-0.2\n",
      "whitespace-0.05\n"
     ]
    }
   ],
   "source": [
    "#empty array in order to save characters with their probabilities\n",
    "arr=[]\n",
    "for character in set(input_file):\n",
    "    output = (input_file.count(character))/len(input_file)\n",
    "    if(character==' '):\n",
    "        character='whitespace'\n",
    "    elif(character=='\\n'):\n",
    "        character='new line'\n",
    "    elif(character=='\t'):\n",
    "        character='tab'\n",
    "    touple = [ character ,round(output,3)]#touple object for each character\n",
    "    if touple not in arr: \n",
    "        arr.append(touple)#save all probabilities and characters in the array\n",
    "    print(character+'-'+str(round(output,3)))"
   ]
  },
  {
   "cell_type": "markdown",
   "metadata": {},
   "source": [
    "- Above we have saved list of characters in array. And now we sort elements of that array in ascending order based on their frequency probabilities."
   ]
  },
  {
   "cell_type": "code",
   "execution_count": 3,
   "metadata": {},
   "outputs": [
    {
     "data": {
      "text/plain": [
       "[['A', 0.05],\n",
       " ['g', 0.05],\n",
       " ['r', 0.05],\n",
       " ['n', 0.15],\n",
       " ['tab', 0.05],\n",
       " ['p', 0.1],\n",
       " ['o', 0.05],\n",
       " ['new line', 0.05],\n",
       " ['l', 0.05],\n",
       " ['e', 0.1],\n",
       " ['b', 0.05],\n",
       " ['a', 0.2],\n",
       " ['whitespace', 0.05]]"
      ]
     },
     "execution_count": 3,
     "metadata": {},
     "output_type": "execute_result"
    }
   ],
   "source": [
    "arr #before sorting"
   ]
  },
  {
   "cell_type": "code",
   "execution_count": 4,
   "metadata": {},
   "outputs": [],
   "source": [
    "arr.sort(key=lambda tup: tup[1], reverse=False) #sorting characters by probabilities in ascending order "
   ]
  },
  {
   "cell_type": "code",
   "execution_count": 5,
   "metadata": {},
   "outputs": [
    {
     "data": {
      "text/plain": [
       "[['A', 0.05],\n",
       " ['g', 0.05],\n",
       " ['r', 0.05],\n",
       " ['tab', 0.05],\n",
       " ['o', 0.05],\n",
       " ['new line', 0.05],\n",
       " ['l', 0.05],\n",
       " ['b', 0.05],\n",
       " ['whitespace', 0.05],\n",
       " ['p', 0.1],\n",
       " ['e', 0.1],\n",
       " ['n', 0.15],\n",
       " ['a', 0.2]]"
      ]
     },
     "execution_count": 5,
     "metadata": {},
     "output_type": "execute_result"
    }
   ],
   "source": [
    "arr #after sorting"
   ]
  },
  {
   "cell_type": "markdown",
   "metadata": {},
   "source": [
    "## Part 2 : Huffman encoding"
   ]
  },
  {
   "cell_type": "markdown",
   "metadata": {},
   "source": [
    "### Task 2"
   ]
  },
  {
   "cell_type": "code",
   "execution_count": 6,
   "metadata": {},
   "outputs": [],
   "source": [
    "class Tree(object):\n",
    "\n",
    "    def __init__(self, value, num, left=None, right=None):\n",
    "        self.left = left\n",
    "        self.right = right\n",
    "        #self.character = character\n",
    "        self.value = value\n",
    "        self.num = num\n",
    "    def child(self):\n",
    "        return (self.left, self.right)\n",
    "\n",
    "    def node(self):\n",
    "        return (self.left, self.right)\n",
    "    def value(self):\n",
    "        return self.value\n",
    "    def num(self):\n",
    "        return self.num\n",
    "\n",
    "    def __str__(self):\n",
    "        return '%s,%s' % (self.left, self.right)\n",
    "    "
   ]
  },
  {
   "cell_type": "code",
   "execution_count": 7,
   "metadata": {},
   "outputs": [
    {
     "name": "stdout",
     "output_type": "stream",
     "text": [
      "Node  1 :  a,n - sum  0.35\n",
      "Node  2 :  whitespace,b - sum  0.1\n",
      "Node  3 :  l,new line - sum  0.1\n",
      "Node  4 :  o,tab - sum  0.1\n",
      "Node  5 :  r,g - sum  0.1\n",
      "Node  6 :  A,r,g - sum  0.15\n",
      "Node  7 :  o,tab,l,new line - sum  0.2\n",
      "Node  8 :  whitespace,b,e - sum  0.2\n",
      "Node  9 :  p,A,r,g - sum  0.25\n",
      "Node  10 :  whitespace,b,e,o,tab,l,new line - sum  0.4\n",
      "Node  11 :  p,A,r,g,a,n - sum  0.6\n",
      "Node  12 :  whitespace,b,e,o,tab,l,new line,p,A,r,g,a,n - sum  1.0\n"
     ]
    }
   ],
   "source": [
    "nodes = arr\n",
    "counter=0\n",
    "while len(nodes) > 1:\n",
    "    counter+=1\n",
    "    (key1, c1) = nodes[-1]\n",
    "    (key2, c2) = nodes[-2]\n",
    "    nodes = nodes[:-2]\n",
    "\n",
    "    node = Tree(c1+c2,counter,key1, key2)\n",
    "    #print(type(node.value))\n",
    "    nodes.append((node, node.value))\n",
    "    #print(node)\n",
    "    print('Node ',counter,': ',node ,\"- sum \",round((node.value),3))\n",
    "    nodes = sorted(nodes, key=lambda x: x[1], reverse=True)\n"
   ]
  },
  {
   "cell_type": "markdown",
   "metadata": {},
   "source": [
    "### Task 3"
   ]
  },
  {
   "cell_type": "code",
   "execution_count": 8,
   "metadata": {},
   "outputs": [],
   "source": [
    "def huffmanEncoding(node, left=True, binaryRecord=''):\n",
    "    if type(node) is str:\n",
    "        return {node: binaryRecord}\n",
    "    (l, r) = node.child()\n",
    "    dictonary = dict()\n",
    "    dictonary.update(huffmanEncoding(l, True, binaryRecord + '0'))\n",
    "    dictonary.update(huffmanEncoding(r, False, binaryRecord + '1'))\n",
    "    return dictonary"
   ]
  },
  {
   "cell_type": "code",
   "execution_count": 9,
   "metadata": {},
   "outputs": [
    {
     "name": "stdout",
     "output_type": "stream",
     "text": [
      "{'whitespace': '0000', 'b': '0001', 'e': '001', 'o': '0100', 'tab': '0101', 'l': '0110', 'new line': '0111', 'p': '100', 'A': '1010', 'r': '10110', 'g': '10111', 'a': '110', 'n': '111'}\n"
     ]
    }
   ],
   "source": [
    "huffmanCode = huffmanEncoding(nodes[0][0])\n",
    "print(huffmanCode)"
   ]
  },
  {
   "cell_type": "code",
   "execution_count": 10,
   "metadata": {},
   "outputs": [
    {
     "name": "stdout",
     "output_type": "stream",
     "text": [
      "A  -  0.05  -  1010\n",
      "g  -  0.05  -  10111\n",
      "r  -  0.05  -  10110\n",
      "tab  -  0.05  -  0101\n",
      "o  -  0.05  -  0100\n",
      "new line  -  0.05  -  0111\n",
      "l  -  0.05  -  0110\n",
      "b  -  0.05  -  0001\n",
      "whitespace  -  0.05  -  0000\n",
      "p  -  0.1  -  100\n",
      "e  -  0.1  -  001\n",
      "n  -  0.15  -  111\n",
      "a  -  0.2  -  110\n"
     ]
    }
   ],
   "source": [
    "for (word, f) in arr:\n",
    "    print(word,' - ',f,' - ', huffmanCode[word])"
   ]
  },
  {
   "cell_type": "markdown",
   "metadata": {},
   "source": [
    "### Task 4"
   ]
  },
  {
   "cell_type": "code",
   "execution_count": 11,
   "metadata": {},
   "outputs": [
    {
     "name": "stdout",
     "output_type": "stream",
     "text": [
      "10101001000110001000000011101111101111100111010010110110111101110010101\n"
     ]
    }
   ],
   "source": [
    "compressed=''\n",
    "for i in input_file:\n",
    "    if(i==' '):\n",
    "        i='whitespace'\n",
    "    elif(i=='\\n'):\n",
    "        i='new line'\n",
    "    elif(i=='\t'):\n",
    "        i='tab'\n",
    "    compressed+=huffmanCode[i]\n",
    "print(compressed)"
   ]
  },
  {
   "cell_type": "code",
   "execution_count": 12,
   "metadata": {},
   "outputs": [],
   "source": [
    "file = open(\"sample.txt\", \"w\")\n",
    "file.write(compressed)\n",
    "file.close()"
   ]
  },
  {
   "cell_type": "markdown",
   "metadata": {},
   "source": [
    "### Task 5"
   ]
  },
  {
   "cell_type": "code",
   "execution_count": 13,
   "metadata": {},
   "outputs": [
    {
     "name": "stdout",
     "output_type": "stream",
     "text": [
      "200\n"
     ]
    }
   ],
   "source": [
    "uncommpressed=0\n",
    "for i in input_file:\n",
    "    if i == '\\n':\n",
    "        uncommpressed+=16\n",
    "    if i == '\\t':\n",
    "        uncommpressed+=32\n",
    "    else:\n",
    "        uncommpressed+=8\n",
    "print(uncommpressed)"
   ]
  },
  {
   "cell_type": "code",
   "execution_count": 14,
   "metadata": {},
   "outputs": [],
   "source": [
    "code_word=0\n",
    "for (word, f) in arr:\n",
    "    code_word+=f*len(huffmanCode[word])"
   ]
  },
  {
   "cell_type": "code",
   "execution_count": 15,
   "metadata": {},
   "outputs": [
    {
     "name": "stdout",
     "output_type": "stream",
     "text": [
      "Number of bits in the original text:  200 bits\n",
      "Number of bits in the compressed text:  71 bits\n",
      "Compression ratio =  2.82\n",
      "Average code length =  3.55 bits/symbol\n"
     ]
    }
   ],
   "source": [
    "compression_ratio=uncommpressed/len(compressed)\n",
    "print('Number of bits in the original text: ',uncommpressed,'bits')\n",
    "print('Number of bits in the compressed text: ',len(compressed),'bits')\n",
    "print('Compression ratio = ',round(compression_ratio,2))\n",
    "print('Average code length = ',round(code_word,2),'bits/symbol')"
   ]
  },
  {
   "cell_type": "markdown",
   "metadata": {},
   "source": [
    "## Part 3: Huffman decoding"
   ]
  },
  {
   "cell_type": "code",
   "execution_count": 16,
   "metadata": {},
   "outputs": [],
   "source": [
    "with open(\"sample.txt\", \"r\") as f:\n",
    "    encoded_text = f.read()"
   ]
  },
  {
   "cell_type": "code",
   "execution_count": 17,
   "metadata": {},
   "outputs": [
    {
     "data": {
      "text/plain": [
       "'10101001000110001000000011101111101111100111010010110110111101110010101'"
      ]
     },
     "execution_count": 17,
     "metadata": {},
     "output_type": "execute_result"
    }
   ],
   "source": [
    "encoded_text"
   ]
  },
  {
   "cell_type": "code",
   "execution_count": 18,
   "metadata": {},
   "outputs": [
    {
     "data": {
      "text/plain": [
       "'Apple banana\\norange\\t'"
      ]
     },
     "execution_count": 18,
     "metadata": {},
     "output_type": "execute_result"
    }
   ],
   "source": [
    "input_file"
   ]
  },
  {
   "cell_type": "code",
   "execution_count": 19,
   "metadata": {
    "scrolled": false
   },
   "outputs": [
    {
     "name": "stdout",
     "output_type": "stream",
     "text": [
      "Step 1\n",
      "1 : Node: 11 p,A,r,g,a,n\n",
      "10 : Node: 9 p,A,r,g\n",
      "101 : Node: 6 A,r,g\n",
      "Symbol 1010 - A\n",
      "\n",
      "Step 2\n",
      "1 : Node: 11 p,A,r,g,a,n\n",
      "10 : Node: 9 p,A,r,g\n",
      "Symbol 100 - p\n",
      "\n",
      "Step 3\n",
      "1 : Node: 11 p,A,r,g,a,n\n",
      "10 : Node: 9 p,A,r,g\n",
      "Symbol 100 - p\n",
      "\n",
      "Step 4\n",
      "0 : Node: 10 whitespace,b,e,o,tab,l,new line\n",
      "01 : Node: 7 o,tab,l,new line\n",
      "011 : Node: 3 l,new line\n",
      "Symbol 0110 - l\n",
      "\n",
      "Step 5\n",
      "0 : Node: 10 whitespace,b,e,o,tab,l,new line\n",
      "00 : Node: 8 whitespace,b,e\n",
      "Symbol 001 - e\n",
      "\n",
      "Step 6\n",
      "0 : Node: 10 whitespace,b,e,o,tab,l,new line\n",
      "00 : Node: 8 whitespace,b,e\n",
      "000 : Node: 2 whitespace,b\n",
      "Symbol 0000 - whitespace\n",
      "\n",
      "Step 7\n",
      "0 : Node: 10 whitespace,b,e,o,tab,l,new line\n",
      "00 : Node: 8 whitespace,b,e\n",
      "000 : Node: 2 whitespace,b\n",
      "Symbol 0001 - b\n",
      "\n",
      "Step 8\n",
      "1 : Node: 11 p,A,r,g,a,n\n",
      "11 : Node: 1 a,n\n",
      "Symbol 110 - a\n",
      "\n",
      "Step 9\n",
      "1 : Node: 11 p,A,r,g,a,n\n",
      "11 : Node: 1 a,n\n",
      "Symbol 111 - n\n",
      "\n",
      "Step 10\n",
      "1 : Node: 11 p,A,r,g,a,n\n",
      "11 : Node: 1 a,n\n",
      "Symbol 110 - a\n",
      "\n",
      "Step 11\n",
      "1 : Node: 11 p,A,r,g,a,n\n",
      "11 : Node: 1 a,n\n",
      "Symbol 111 - n\n",
      "\n",
      "Step 12\n",
      "1 : Node: 11 p,A,r,g,a,n\n",
      "11 : Node: 1 a,n\n",
      "Symbol 110 - a\n",
      "\n",
      "Step 13\n",
      "0 : Node: 10 whitespace,b,e,o,tab,l,new line\n",
      "01 : Node: 7 o,tab,l,new line\n",
      "011 : Node: 3 l,new line\n",
      "Symbol 0111 - new line\n",
      "\n",
      "Step 14\n",
      "0 : Node: 10 whitespace,b,e,o,tab,l,new line\n",
      "01 : Node: 7 o,tab,l,new line\n",
      "010 : Node: 4 o,tab\n",
      "Symbol 0100 - o\n",
      "\n",
      "Step 15\n",
      "1 : Node: 11 p,A,r,g,a,n\n",
      "10 : Node: 9 p,A,r,g\n",
      "101 : Node: 6 A,r,g\n",
      "1011 : Node: 5 r,g\n",
      "Symbol 10110 - r\n",
      "\n",
      "Step 16\n",
      "1 : Node: 11 p,A,r,g,a,n\n",
      "11 : Node: 1 a,n\n",
      "Symbol 110 - a\n",
      "\n",
      "Step 17\n",
      "1 : Node: 11 p,A,r,g,a,n\n",
      "11 : Node: 1 a,n\n",
      "Symbol 111 - n\n",
      "\n",
      "Step 18\n",
      "1 : Node: 11 p,A,r,g,a,n\n",
      "10 : Node: 9 p,A,r,g\n",
      "101 : Node: 6 A,r,g\n",
      "1011 : Node: 5 r,g\n",
      "Symbol 10111 - g\n",
      "\n",
      "Step 19\n",
      "0 : Node: 10 whitespace,b,e,o,tab,l,new line\n",
      "00 : Node: 8 whitespace,b,e\n",
      "Symbol 001 - e\n",
      "\n",
      "Step 20\n",
      "0 : Node: 10 whitespace,b,e,o,tab,l,new line\n",
      "01 : Node: 7 o,tab,l,new line\n",
      "010 : Node: 4 o,tab\n",
      "Symbol 0101 - tab\n",
      "\n"
     ]
    }
   ],
   "source": [
    "all_nodes=node\n",
    "tree=node\n",
    "\n",
    "def decode(encoded_text, tree,counter=1,decoded=[]):\n",
    "    length=len(encoded_text)\n",
    "    print('Step', counter)\n",
    "    for i in range(length+1):\n",
    "            \n",
    "    \n",
    "            if type(tree) == str:\n",
    "                \n",
    "                print('Symbol',encoded_text[:i],'-',tree)\n",
    "                decoded.append(tree)\n",
    "                print()\n",
    "                \n",
    "                if encoded_text[i:] != '':\n",
    "                    decode(encoded_text[i:],all_nodes,counter+1,decoded)\n",
    "                    return decoded\n",
    "                else:\n",
    "                    #print(decoded)\n",
    "                    return decoded\n",
    "                \n",
    "                break\n",
    "            \n",
    "                    \n",
    "               \n",
    "            else:\n",
    "                if encoded_text != '':\n",
    "                    if i != 0:\n",
    "                        print(encoded_text[:i],':','Node:',tree.num,tree)\n",
    "                    if encoded_text[i] == '0':    \n",
    "                        tree = tree.left\n",
    "                        i += 1\n",
    "                    else:\n",
    "                        tree = tree.right\n",
    "                        i += 1 \n",
    "    #return decoded\n",
    "decoded=decode(encoded_text,tree)\n"
   ]
  },
  {
   "cell_type": "code",
   "execution_count": 20,
   "metadata": {},
   "outputs": [
    {
     "name": "stdout",
     "output_type": "stream",
     "text": [
      "Encoded text:  10101001000110001000000011101111101111100111010010110110111101110010101\n",
      "Decoded text:  Apple banana\n",
      "orange\t\n",
      "Original text:  Apple banana\n",
      "orange\t\n",
      "The original text and decoded text match!\n"
     ]
    }
   ],
   "source": [
    "print(\"Encoded text: \",encoded_text)\n",
    "output =''\n",
    "for i in decoded:\n",
    "    if(i=='whitespace'):\n",
    "        i=' '\n",
    "    elif(i=='new line'):\n",
    "        i='\\n'\n",
    "    elif(i=='tab'):\n",
    "        i='\\t'\n",
    "    output += i\n",
    "print(\"Decoded text: \",output)\n",
    "print(\"Original text: \",input_file)\n",
    "if output == input_file:\n",
    "    print(\"The original text and decoded text match!\")"
   ]
  },
  {
   "cell_type": "code",
   "execution_count": null,
   "metadata": {},
   "outputs": [],
   "source": []
  }
 ],
 "metadata": {
  "kernelspec": {
   "display_name": "Python 3",
   "language": "python",
   "name": "python3"
  },
  "language_info": {
   "codemirror_mode": {
    "name": "ipython",
    "version": 3
   },
   "file_extension": ".py",
   "mimetype": "text/x-python",
   "name": "python",
   "nbconvert_exporter": "python",
   "pygments_lexer": "ipython3",
   "version": "3.8.5"
  }
 },
 "nbformat": 4,
 "nbformat_minor": 4
}
